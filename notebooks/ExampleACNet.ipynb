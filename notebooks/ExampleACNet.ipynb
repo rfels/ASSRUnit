{
 "cells": [
  {
   "cell_type": "markdown",
   "metadata": {},
   "source": [
    "## Using the minimal ACNet model\n",
    "A short example demonstrating how to use the simple ACNet model\n",
    "\n",
    "\n",
    "Note: change the path in the cell below to match your file system!"
   ]
  },
  {
   "cell_type": "markdown",
   "metadata": {},
   "source": [
    "### preparation and setting working directory"
   ]
  },
  {
   "cell_type": "code",
   "execution_count": 1,
   "metadata": {},
   "outputs": [
    {
     "name": "stdout",
     "output_type": "stream",
     "text": [
      "working dir: /home/rob/Documents/uni/Master_thesis/TU/topics/test_framework/code/ASSRUnit/notebooks\n",
      "working dir changed: /home/rob/Documents/uni/Master_thesis/TU/topics/test_framework/code/ASSRUnit/assrunit/acnet\n",
      "START Compiling \n",
      "END Compiling \n"
     ]
    }
   ],
   "source": [
    "import os\n",
    "\n",
    "cwd = os.getcwd()\n",
    "print(\"working dir: \" + cwd)\n",
    "\n",
    "# path to data\n",
    "data_path= '/../assrunit/acnet'\n",
    "\n",
    "os.chdir(cwd+data_path)\n",
    "\n",
    "print(\"working dir changed: \" + os.getcwd())\n",
    "\n",
    "# start neuron netpyne\n",
    "print(\"START Compiling \")\n",
    "os.system('nrnivmodl '+ os.getcwd() + '/mod_files')\n",
    "print(\"END Compiling \")\n",
    "\n"
   ]
  },
  {
   "cell_type": "code",
   "execution_count": 2,
   "metadata": {},
   "outputs": [],
   "source": [
    "import sciunit\n",
    "\n",
    "from assrunit.capabilities import ProduceXY\n",
    "\n",
    "from assrunit.models import ACNetMinimalModel\n",
    "\n",
    "from assrunit.tests.test_and_prediction_tests import Test4040,Test3030,Test2020,Test2040,Test4020"
   ]
  },
  {
   "cell_type": "markdown",
   "metadata": {},
   "source": [
    "### Parameters"
   ]
  },
  {
   "cell_type": "code",
   "execution_count": 3,
   "metadata": {},
   "outputs": [],
   "source": [
    "# with adapted path in directory\n",
    "#controlparams = {'tau1_gaba_IE': 0.5,'tau2_gaba_IE': 8.0,'tau1_gaba_II': 0.5,'tau2_gaba_II': 8.0,'nmda_alpha': 10.0,'nmda_beta': 0.015,'nmda_e': 45.0,'nmda_g': 1.0,'nmda_gmax': 1.0,'stim_bkg_pyr_weight': 0.0325, 'stim_bkg_bask_weight': 0.002, 'stim_drive_pyr_weight': 0.1, 'stim_drive_bask_weight': 0.1, 'conn_pyr_pyr_weight': [0.0012,0.0006], 'conn_pyr_bask_weight': [0.0012,0.00013], 'conn_bask_pyr_weight': 0.035, 'conn_bask_bask_weight': 0.023, 'duration': 2, 'frequency': 40, 'directory': os.getcwd(), 'conn_seed_file': 'Conn-Seeds.npy', 'noise_seed_file': 'Noise-Seeds.npy'}\n",
    "controlparams = {'tau1_gaba_IE': 0.5,'tau2_gaba_IE': 8.0,'tau1_gaba_II': 0.5,'tau2_gaba_II': 8.0,'nmda_alpha': 10.0,'nmda_beta': 0.015,'nmda_e': 45.0,'nmda_g': 1.0,'nmda_gmax': 1.0,'stim_bkg_pyr_weight': 0.0325, 'stim_bkg_bask_weight': 0.002, 'stim_drive_pyr_weight': 0.1, 'stim_drive_bask_weight': 0.1, 'conn_pyr_pyr_weight': [0.0012,0.0006], 'conn_pyr_bask_weight': [0.0012,0.00013], 'conn_bask_pyr_weight': 0.035, 'conn_bask_bask_weight': 0.023, 'duration': 2, 'frequency': 40, 'directory': os.getcwd()}\n",
    "#schizparams = {'tau1_gaba_IE': 0.5,'tau2_gaba_IE': 28.0,'tau1_gaba_II': 0.5,'tau2_gaba_II': 28.0,'nmda_alpha': 10.0,'nmda_beta': 0.015,'nmda_e': 45.0,'nmda_g': 1.0,'nmda_gmax': 1.0,'stim_bkg_pyr_weight': 0.0325, 'stim_bkg_bask_weight': 0.002, 'stim_drive_pyr_weight': 0.1, 'stim_drive_bask_weight': 0.1, 'conn_pyr_pyr_weight': [0.0012,0.0006], 'conn_pyr_bask_weight': [0.0012,0.00013], 'conn_bask_pyr_weight': 0.035, 'conn_bask_bask_weight': 0.023, 'duration': 2, 'frequency': 40, 'directory': os.getcwd(), 'conn_seed_file': 'Conn-Seeds.npy', 'noise_seed_file': 'Noise-Seeds.npy'}\n",
    "schizparams = {'tau1_gaba_IE': 0.5,'tau2_gaba_IE': 28.0,'tau1_gaba_II': 0.5,'tau2_gaba_II': 28.0,'nmda_alpha': 10.0,'nmda_beta': 0.015,'nmda_e': 45.0,'nmda_g': 1.0,'nmda_gmax': 1.0,'stim_bkg_pyr_weight': 0.0325, 'stim_bkg_bask_weight': 0.002, 'stim_drive_pyr_weight': 0.1, 'stim_drive_bask_weight': 0.1, 'conn_pyr_pyr_weight': [0.0012,0.0006], 'conn_pyr_bask_weight': [0.0012,0.00013], 'conn_bask_pyr_weight': 0.035, 'conn_bask_bask_weight': 0.023, 'duration': 2, 'frequency': 40, 'directory': os.getcwd()}"
   ]
  },
  {
   "cell_type": "markdown",
   "metadata": {},
   "source": [
    "#### Overview of params\n",
    "\n",
    "controlparams = {'tau1_gaba_IE': 0.5,'tau2_gaba_IE': 8.0,'tau1_gaba_II': 0.5,'tau2_gaba_IE': 8.0,'nmda_alpha': 10.0,'nmda_beta': 0.015,'nmda_e': 45.0,'nmda_g': 1.0,'nmda_gmax': 1.0,'stim_bkg_pyr_weight': 0.0325, 'stim_bkg_bask_weight': 0.002, 'stim_drive_pyr_weight': 0.1, 'stim_drive_bask_weight': 0.1, 'conn_pyr_pyr_weight': [0.0012,0.0006], 'conn_pyr_bask_weight': [0.0012,0.00013], 'conn_bask_pyr_weight': 0.035, 'conn_bask_bask_weight': 0.023, 'duration': 2, 'frequency': 40, 'directory': '../assrunit/acnet', 'conn_seed_file': 'Conn-Seeds.npy', 'noise_seed_file': 'Noise-Seeds.npy'}\n",
    "\n",
    "schizparams = {'tau1_gaba_IE': 0.5,'tau2_gaba_IE': 28.0,'tau1_gaba_II': 0.5,'tau2_gaba_IE': 28.0,'nmda_alpha': 10.0,'nmda_beta': 0.015,'nmda_e': 45.0,'nmda_g': 1.0,'nmda_gmax': 1.0,'stim_bkg_pyr_weight': 0.0325, 'stim_bkg_bask_weight': 0.002, 'stim_drive_pyr_weight': 0.1, 'stim_drive_bask_weight': 0.1, 'conn_pyr_pyr_weight': [0.0012,0.0006], 'conn_pyr_bask_weight': [0.0012,0.00013], 'conn_bask_pyr_weight': 0.035, 'conn_bask_bask_weight': 0.023, 'duration': 2, 'frequency': 40, 'directory': '../assrunit/acnet', 'conn_seed_file': 'Conn-Seeds.npy', 'noise_seed_file': 'Noise-Seeds.npy'}"
   ]
  },
  {
   "cell_type": "markdown",
   "metadata": {},
   "source": [
    "### Model"
   ]
  },
  {
   "cell_type": "code",
   "execution_count": 4,
   "metadata": {},
   "outputs": [
    {
     "name": "stdout",
     "output_type": "stream",
     "text": [
      "test model initialized\n"
     ]
    }
   ],
   "source": [
    "test_model = ACNetMinimalModel(controlparams,schizparams)"
   ]
  },
  {
   "cell_type": "markdown",
   "metadata": {},
   "source": [
    "### Tests (not finished)"
   ]
  },
  {
   "cell_type": "code",
   "execution_count": 5,
   "metadata": {},
   "outputs": [
    {
     "name": "stdout",
     "output_type": "stream",
     "text": [
      "Generating control model\n",
      "Running control model\n",
      "0\n",
      "/home/rob/Documents/uni/Master_thesis/TU/topics/test_framework/code/ASSRUnit/assrunit/acnet/Subject_0\n",
      "\n",
      "Start time:  2021-01-11 16:39:51.898419\n",
      "\n",
      "Creating network of 2 cell populations on 1 hosts...\n",
      "  Number of cells on node 0: 320 \n",
      "  Done; cell creation time = 1.07 s.\n",
      "Making connections...\n",
      "  Number of connections on node 0: 20209 \n",
      "  Number of synaptic contacts on node 0: 31184 \n",
      "  Done; cell connection time = 5.29 s.\n",
      "Adding stims...\n",
      "  Number of stims on node 0: 618 \n",
      "  Done; cell stims creation time = 0.17 s.\n",
      "\n",
      "Running simulation for 2.0 ms...\n",
      "  Done; run time = 1.11 s; real-time ratio: 0.00.\n",
      "\n",
      "Gathering data...\n",
      "  Done; gather time = 3.07 s.\n",
      "\n",
      "Analyzing...\n",
      "  Cells: 320\n",
      "  Connections: 20529 (64.15 per cell)\n",
      "  Synaptic contacts: 31802 (99.38 per cell)\n",
      "  Spikes: 0 (0.00 Hz)\n",
      "  Simulated time: 0.0 s; 1 workers\n",
      "  Run time: 1.11 s\n",
      "   PYR : 0.000 Hz\n",
      "   BASK : 0.000 Hz\n",
      "Saving output as /home/rob/Documents/uni/Master_thesis/TU/topics/test_framework/code/ASSRUnit/assrunit/acnet/Subject_0/ACnet_NMDA_control_trial_0_40Hz.pkl ... \n",
      "Finished saving!\n",
      "  Done; saving time = 6.01 s.\n",
      "  Done; plotting time = 0.00 s\n",
      "\n",
      "Total time = 16.96 s\n",
      "\n",
      "End time:  2021-01-11 16:40:08.864029\n",
      "ANALYSE!!!!!\n",
      "/home/rob/Documents/uni/Master_thesis/TU/topics/test_framework/code/ASSRUnit/assrunit/acnet\n",
      "0\n",
      "0\n",
      "40.0\n",
      "Generating schizophrenia model\n",
      "Running control model\n",
      "0\n",
      "/home/rob/Documents/uni/Master_thesis/TU/topics/test_framework/code/ASSRUnit/assrunit/acnet/Subject_0\n",
      "\n",
      "Start time:  2021-01-11 16:40:14.299849\n",
      "\n",
      "Creating network of 2 cell populations on 1 hosts...\n",
      "  Number of cells on node 0: 320 \n",
      "  Done; cell creation time = 1.18 s.\n",
      "Making connections...\n",
      "  Number of connections on node 0: 20209 \n",
      "  Number of synaptic contacts on node 0: 31184 \n",
      "  Done; cell connection time = 7.45 s.\n",
      "Adding stims...\n",
      "  Number of stims on node 0: 618 \n",
      "  Done; cell stims creation time = 0.25 s.\n",
      "\n",
      "Running simulation for 2.0 ms...\n",
      "  Done; run time = 1.29 s; real-time ratio: 0.00.\n",
      "\n",
      "Gathering data...\n",
      "  Done; gather time = 3.81 s.\n",
      "\n",
      "Analyzing...\n",
      "  Cells: 320\n",
      "  Connections: 20529 (64.15 per cell)\n",
      "  Synaptic contacts: 31802 (99.38 per cell)\n",
      "  Spikes: 0 (0.00 Hz)\n",
      "  Simulated time: 0.0 s; 1 workers\n",
      "  Run time: 1.29 s\n",
      "   PYR : 0.000 Hz\n",
      "   BASK : 0.000 Hz\n",
      "Saving output as /home/rob/Documents/uni/Master_thesis/TU/topics/test_framework/code/ASSRUnit/assrunit/acnet/Subject_0/ACnet_NMDA_schiz_trial_0_40Hz.pkl ... \n",
      "Finished saving!\n",
      "  Done; saving time = 7.54 s.\n",
      "  Done; plotting time = 0.00 s\n",
      "\n",
      "Total time = 21.98 s\n",
      "\n",
      "End time:  2021-01-11 16:40:36.276093\n",
      "ANALYSE!!!!!\n",
      "/home/rob/Documents/uni/Master_thesis/TU/topics/test_framework/code/ASSRUnit/assrunit/acnet\n",
      "0\n",
      "0\n",
      "40.0\n"
     ]
    },
    {
     "ename": "UnboundLocalError",
     "evalue": "local variable 'result' referenced before assignment",
     "output_type": "error",
     "traceback": [
      "\u001b[0;31m---------------------------------------------------------------------------\u001b[0m",
      "\u001b[0;31mUnboundLocalError\u001b[0m                         Traceback (most recent call last)",
      "\u001b[0;32m<ipython-input-5-e1a29ddd0d07>\u001b[0m in \u001b[0;36m<module>\u001b[0;34m\u001b[0m\n\u001b[1;32m      2\u001b[0m \u001b[0;34m\u001b[0m\u001b[0m\n\u001b[1;32m      3\u001b[0m \u001b[0mtest_4040\u001b[0m \u001b[0;34m=\u001b[0m \u001b[0mTest4040\u001b[0m\u001b[0;34m(\u001b[0m\u001b[0mobservation\u001b[0m\u001b[0;34m=\u001b[0m\u001b[0;34m{\u001b[0m\u001b[0;34m'ratio'\u001b[0m\u001b[0;34m:\u001b[0m\u001b[0;36m0.5\u001b[0m\u001b[0;34m}\u001b[0m\u001b[0;34m)\u001b[0m\u001b[0;34m\u001b[0m\u001b[0;34m\u001b[0m\u001b[0m\n\u001b[0;32m----> 4\u001b[0;31m \u001b[0mscore_4040\u001b[0m \u001b[0;34m=\u001b[0m \u001b[0mtest_4040\u001b[0m\u001b[0;34m.\u001b[0m\u001b[0mjudge\u001b[0m\u001b[0;34m(\u001b[0m\u001b[0mtest_model\u001b[0m\u001b[0;34m)\u001b[0m\u001b[0;34m\u001b[0m\u001b[0;34m\u001b[0m\u001b[0m\n\u001b[0m\u001b[1;32m      5\u001b[0m \u001b[0mprint\u001b[0m\u001b[0;34m(\u001b[0m\u001b[0mscore_4040\u001b[0m\u001b[0;34m)\u001b[0m\u001b[0;34m\u001b[0m\u001b[0;34m\u001b[0m\u001b[0m\n\u001b[1;32m      6\u001b[0m \u001b[0;34m\u001b[0m\u001b[0m\n",
      "\u001b[0;32m~/Documents/uni/Master_thesis/TU/topics/test_framework/code/ASSRUnit/my_virt/lib/python3.8/site-packages/sciunit/tests.py\u001b[0m in \u001b[0;36mjudge\u001b[0;34m(self, model, skip_incapable, stop_on_error, deep_error)\u001b[0m\n\u001b[1;32m    434\u001b[0m                 \u001b[0mscore\u001b[0m\u001b[0;34m.\u001b[0m\u001b[0mtest\u001b[0m \u001b[0;34m=\u001b[0m \u001b[0mself\u001b[0m\u001b[0;34m\u001b[0m\u001b[0;34m\u001b[0m\u001b[0m\n\u001b[1;32m    435\u001b[0m         \u001b[0;32mif\u001b[0m \u001b[0misinstance\u001b[0m\u001b[0;34m(\u001b[0m\u001b[0mscore\u001b[0m\u001b[0;34m,\u001b[0m \u001b[0mErrorScore\u001b[0m\u001b[0;34m)\u001b[0m \u001b[0;32mand\u001b[0m \u001b[0mstop_on_error\u001b[0m\u001b[0;34m:\u001b[0m\u001b[0;34m\u001b[0m\u001b[0;34m\u001b[0m\u001b[0m\n\u001b[0;32m--> 436\u001b[0;31m             \u001b[0;32mraise\u001b[0m \u001b[0mscore\u001b[0m\u001b[0;34m.\u001b[0m\u001b[0mscore\u001b[0m  \u001b[0;31m# An exception.\u001b[0m\u001b[0;34m\u001b[0m\u001b[0;34m\u001b[0m\u001b[0m\n\u001b[0m\u001b[1;32m    437\u001b[0m         \u001b[0;32mreturn\u001b[0m \u001b[0mscore\u001b[0m\u001b[0;34m\u001b[0m\u001b[0;34m\u001b[0m\u001b[0m\n\u001b[1;32m    438\u001b[0m \u001b[0;34m\u001b[0m\u001b[0m\n",
      "\u001b[0;32m~/Documents/uni/Master_thesis/TU/topics/test_framework/code/ASSRUnit/my_virt/lib/python3.8/site-packages/sciunit/tests.py\u001b[0m in \u001b[0;36mjudge\u001b[0;34m(self, model, skip_incapable, stop_on_error, deep_error)\u001b[0m\n\u001b[1;32m    423\u001b[0m         \u001b[0;32melse\u001b[0m\u001b[0;34m:\u001b[0m\u001b[0;34m\u001b[0m\u001b[0;34m\u001b[0m\u001b[0m\n\u001b[1;32m    424\u001b[0m             \u001b[0;32mtry\u001b[0m\u001b[0;34m:\u001b[0m\u001b[0;34m\u001b[0m\u001b[0;34m\u001b[0m\u001b[0m\n\u001b[0;32m--> 425\u001b[0;31m                 \u001b[0mscore\u001b[0m \u001b[0;34m=\u001b[0m \u001b[0mself\u001b[0m\u001b[0;34m.\u001b[0m\u001b[0m_judge\u001b[0m\u001b[0;34m(\u001b[0m\u001b[0mmodel\u001b[0m\u001b[0;34m,\u001b[0m \u001b[0mskip_incapable\u001b[0m\u001b[0;34m=\u001b[0m\u001b[0mskip_incapable\u001b[0m\u001b[0;34m)\u001b[0m\u001b[0;34m\u001b[0m\u001b[0;34m\u001b[0m\u001b[0m\n\u001b[0m\u001b[1;32m    426\u001b[0m             \u001b[0;32mexcept\u001b[0m \u001b[0mCapabilityError\u001b[0m \u001b[0;32mas\u001b[0m \u001b[0me\u001b[0m\u001b[0;34m:\u001b[0m\u001b[0;34m\u001b[0m\u001b[0;34m\u001b[0m\u001b[0m\n\u001b[1;32m    427\u001b[0m                 \u001b[0mscore\u001b[0m \u001b[0;34m=\u001b[0m \u001b[0mNAScore\u001b[0m\u001b[0;34m(\u001b[0m\u001b[0mstr\u001b[0m\u001b[0;34m(\u001b[0m\u001b[0me\u001b[0m\u001b[0;34m)\u001b[0m\u001b[0;34m)\u001b[0m\u001b[0;34m\u001b[0m\u001b[0;34m\u001b[0m\u001b[0m\n",
      "\u001b[0;32m~/Documents/uni/Master_thesis/TU/topics/test_framework/code/ASSRUnit/my_virt/lib/python3.8/site-packages/sciunit/tests.py\u001b[0m in \u001b[0;36m_judge\u001b[0;34m(self, model, skip_incapable)\u001b[0m\n\u001b[1;32m    359\u001b[0m \u001b[0;34m\u001b[0m\u001b[0m\n\u001b[1;32m    360\u001b[0m         \u001b[0;31m# 4.\u001b[0m\u001b[0;34m\u001b[0m\u001b[0;34m\u001b[0m\u001b[0;34m\u001b[0m\u001b[0m\n\u001b[0;32m--> 361\u001b[0;31m         \u001b[0mscore\u001b[0m \u001b[0;34m=\u001b[0m \u001b[0mself\u001b[0m\u001b[0;34m.\u001b[0m\u001b[0mcompute_score\u001b[0m\u001b[0;34m(\u001b[0m\u001b[0mself\u001b[0m\u001b[0;34m.\u001b[0m\u001b[0mobservation\u001b[0m\u001b[0;34m,\u001b[0m \u001b[0mprediction\u001b[0m\u001b[0;34m)\u001b[0m\u001b[0;34m\u001b[0m\u001b[0;34m\u001b[0m\u001b[0m\n\u001b[0m\u001b[1;32m    362\u001b[0m \u001b[0;34m\u001b[0m\u001b[0m\n\u001b[1;32m    363\u001b[0m         \u001b[0;32mif\u001b[0m \u001b[0mself\u001b[0m\u001b[0;34m.\u001b[0m\u001b[0mconverter\u001b[0m\u001b[0;34m:\u001b[0m\u001b[0;34m\u001b[0m\u001b[0;34m\u001b[0m\u001b[0m\n",
      "\u001b[0;32m~/Documents/uni/Master_thesis/TU/topics/test_framework/code/ASSRUnit/my_virt/lib/python3.8/site-packages/assrunit/tests/test_and_prediction_tests.py\u001b[0m in \u001b[0;36mcompute_score\u001b[0;34m(self, observation, prediction)\u001b[0m\n\u001b[1;32m     36\u001b[0m             \u001b[0mresult\u001b[0m \u001b[0;34m=\u001b[0m \u001b[0;34m{\u001b[0m\u001b[0;34m\"ratio\"\u001b[0m\u001b[0;34m:\u001b[0m \u001b[0mprediction\u001b[0m\u001b[0;34m[\u001b[0m\u001b[0;36m1\u001b[0m\u001b[0;34m]\u001b[0m \u001b[0;34m/\u001b[0m \u001b[0mprediction\u001b[0m\u001b[0;34m[\u001b[0m\u001b[0;36m0\u001b[0m\u001b[0;34m]\u001b[0m\u001b[0;34m}\u001b[0m\u001b[0;34m\u001b[0m\u001b[0;34m\u001b[0m\u001b[0m\n\u001b[1;32m     37\u001b[0m         score = self.score_type(\n\u001b[0;32m---> 38\u001b[0;31m             \u001b[0mbool\u001b[0m\u001b[0;34m(\u001b[0m\u001b[0mresult\u001b[0m\u001b[0;34m[\u001b[0m\u001b[0;34m\"ratio\"\u001b[0m\u001b[0;34m]\u001b[0m \u001b[0;34m<\u001b[0m \u001b[0mobservation\u001b[0m\u001b[0;34m[\u001b[0m\u001b[0;34m\"ratio\"\u001b[0m\u001b[0;34m]\u001b[0m\u001b[0;34m)\u001b[0m\u001b[0;34m\u001b[0m\u001b[0;34m\u001b[0m\u001b[0m\n\u001b[0m\u001b[1;32m     39\u001b[0m         )  # Returns a BooleanScore.\n\u001b[1;32m     40\u001b[0m         score.description = (\n",
      "\u001b[0;31mUnboundLocalError\u001b[0m: local variable 'result' referenced before assignment"
     ]
    }
   ],
   "source": [
    "### STILL TO DO ####\n",
    "\n",
    "test_4040 = Test4040(observation={'ratio':0.5})\n",
    "score_4040 = test_4040.judge(test_model)\n",
    "print(score_4040)\n",
    "\n",
    "test_3030 = Test3030(observation={'ratio':1.0})\n",
    "score_3030 = test_3030.judge(test_model)\n",
    "print(score_3030)\n",
    "\n",
    "test_2020 = Test2020(observation={'ratio':1.0})\n",
    "score_2020 = test_2020.judge(test_model)\n",
    "print(score_2020)\n",
    "\n",
    "test_2040 = Test2040(observation={'ratio':1.0})\n",
    "score_2040 = test_2040.judge(test_model)\n",
    "print(score_2040)\n",
    "\n",
    "test_4020 = Test4020(observation={'ratio':1.0})\n",
    "score_4020 = test_4020.judge(test_model)\n",
    "print(score_4020)\n"
   ]
  },
  {
   "cell_type": "markdown",
   "metadata": {},
   "source": [
    "### A test suite"
   ]
  },
  {
   "cell_type": "code",
   "execution_count": null,
   "metadata": {},
   "outputs": [],
   "source": [
    "ACNet_main_suite = sciunit.TestSuite([test_4040,test_3030,test_2020,test_4020,test_2040])\n",
    "score_matrix = ACNet_main_suite.judge(test_model)\n",
    "score_matrix"
   ]
  },
  {
   "cell_type": "code",
   "execution_count": null,
   "metadata": {},
   "outputs": [],
   "source": []
  }
 ],
 "metadata": {
  "kernelspec": {
   "display_name": "Python 3",
   "language": "python",
   "name": "python3"
  },
  "language_info": {
   "codemirror_mode": {
    "name": "ipython",
    "version": 3
   },
   "file_extension": ".py",
   "mimetype": "text/x-python",
   "name": "python",
   "nbconvert_exporter": "python",
   "pygments_lexer": "ipython3",
   "version": "3.8.7"
  }
 },
 "nbformat": 4,
 "nbformat_minor": 1
}
