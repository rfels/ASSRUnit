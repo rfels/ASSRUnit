{
 "cells": [
  {
   "cell_type": "markdown",
   "metadata": {},
   "source": [
    "## Using the minimal ACNet model\n",
    "A short example demonstrating how to use the simple ACNet model\n",
    "\n",
    "\n",
    "Note: change the path in the cell below to match your file system!"
   ]
  },
  {
   "cell_type": "markdown",
   "metadata": {},
   "source": [
    "### preparation and setting working directory"
   ]
  },
  {
   "cell_type": "code",
   "execution_count": null,
   "metadata": {},
   "outputs": [],
   "source": [
    "import os\n",
    "\n",
    "cwd = os.getcwd()\n",
    "print(\"working dir: \" + cwd)\n",
    "\n",
    "# path to data\n",
    "data_path= '/../assrunit/acnet'\n",
    "\n",
    "os.chdir(cwd+data_path)\n",
    "\n",
    "print(\"working dir changed: \" + os.getcwd())\n",
    "\n",
    "# start neuron netpyne\n",
    "print(\"START Compiling \")\n",
    "os.system('nrnivmodl '+ os.getcwd() + '/mod_files')\n",
    "print(\"END Compiling \")\n",
    "\n"
   ]
  },
  {
   "cell_type": "code",
   "execution_count": null,
   "metadata": {},
   "outputs": [],
   "source": [
    "import sciunit\n",
    "\n",
    "from assrunit.capabilities import ProduceXY\n",
    "\n",
    "from assrunit.models import ACNetMinimalModel\n",
    "\n",
    "from assrunit.tests.test_and_prediction_tests import Test4040,Test3030,Test2020,Test2040,Test4020"
   ]
  },
  {
   "cell_type": "markdown",
   "metadata": {},
   "source": [
    "### Parameters"
   ]
  },
  {
   "cell_type": "code",
   "execution_count": null,
   "metadata": {},
   "outputs": [],
   "source": [
    "# with adapted path in directory\n",
    "controlparams = {'tau1_gaba_IE': 0.5,'tau2_gaba_IE': 8.0,'tau1_gaba_II': 0.5,'tau2_gaba_II': 8.0,'nmda_alpha': 10.0,'nmda_beta': 0.015,'nmda_e': 45.0,'nmda_g': 1.0,'nmda_gmax': 1.0,'stim_bkg_pyr_weight': 0.0325, 'stim_bkg_bask_weight': 0.002, 'stim_drive_pyr_weight': 0.1, 'stim_drive_bask_weight': 0.1, 'conn_pyr_pyr_weight': [0.0012,0.0006], 'conn_pyr_bask_weight': [0.0012,0.00013], 'conn_bask_pyr_weight': 0.035, 'conn_bask_bask_weight': 0.023, 'duration': 2, 'frequency': 40, 'directory': os.getcwd(), 'conn_seed_file': 'Conn-Seeds.npy', 'noise_seed_file': 'Noise-Seeds.npy'}\n",
    "\n",
    "schizparams = {'tau1_gaba_IE': 0.5,'tau2_gaba_IE': 28.0,'tau1_gaba_II': 0.5,'tau2_gaba_II': 28.0,'nmda_alpha': 10.0,'nmda_beta': 0.015,'nmda_e': 45.0,'nmda_g': 1.0,'nmda_gmax': 1.0,'stim_bkg_pyr_weight': 0.0325, 'stim_bkg_bask_weight': 0.002, 'stim_drive_pyr_weight': 0.1, 'stim_drive_bask_weight': 0.1, 'conn_pyr_pyr_weight': [0.0012,0.0006], 'conn_pyr_bask_weight': [0.0012,0.00013], 'conn_bask_pyr_weight': 0.035, 'conn_bask_bask_weight': 0.023, 'duration': 2, 'frequency': 40, 'directory': os.getcwd(), 'conn_seed_file': 'Conn-Seeds.npy', 'noise_seed_file': 'Noise-Seeds.npy'}"
   ]
  },
  {
   "cell_type": "markdown",
   "metadata": {},
   "source": [
    "#### Overview of params\n",
    "\n",
    "controlparams = {'tau1_gaba_IE': 0.5,'tau2_gaba_IE': 8.0,'tau1_gaba_II': 0.5,'tau2_gaba_IE': 8.0,'nmda_alpha': 10.0,'nmda_beta': 0.015,'nmda_e': 45.0,'nmda_g': 1.0,'nmda_gmax': 1.0,'stim_bkg_pyr_weight': 0.0325, 'stim_bkg_bask_weight': 0.002, 'stim_drive_pyr_weight': 0.1, 'stim_drive_bask_weight': 0.1, 'conn_pyr_pyr_weight': [0.0012,0.0006], 'conn_pyr_bask_weight': [0.0012,0.00013], 'conn_bask_pyr_weight': 0.035, 'conn_bask_bask_weight': 0.023, 'duration': 2, 'frequency': 40, 'directory': '../assrunit/acnet', 'conn_seed_file': 'Conn-Seeds.npy', 'noise_seed_file': 'Noise-Seeds.npy'}\n",
    "\n",
    "schizparams = {'tau1_gaba_IE': 0.5,'tau2_gaba_IE': 28.0,'tau1_gaba_II': 0.5,'tau2_gaba_IE': 28.0,'nmda_alpha': 10.0,'nmda_beta': 0.015,'nmda_e': 45.0,'nmda_g': 1.0,'nmda_gmax': 1.0,'stim_bkg_pyr_weight': 0.0325, 'stim_bkg_bask_weight': 0.002, 'stim_drive_pyr_weight': 0.1, 'stim_drive_bask_weight': 0.1, 'conn_pyr_pyr_weight': [0.0012,0.0006], 'conn_pyr_bask_weight': [0.0012,0.00013], 'conn_bask_pyr_weight': 0.035, 'conn_bask_bask_weight': 0.023, 'duration': 2, 'frequency': 40, 'directory': '../assrunit/acnet', 'conn_seed_file': 'Conn-Seeds.npy', 'noise_seed_file': 'Noise-Seeds.npy'}"
   ]
  },
  {
   "cell_type": "markdown",
   "metadata": {},
   "source": [
    "### Model"
   ]
  },
  {
   "cell_type": "code",
   "execution_count": null,
   "metadata": {},
   "outputs": [],
   "source": [
    "test_model = ACNetMinimalModel(controlparams,schizparams)"
   ]
  },
  {
   "cell_type": "markdown",
   "metadata": {},
   "source": [
    "### Tests (not finished)"
   ]
  },
  {
   "cell_type": "code",
   "execution_count": null,
   "metadata": {},
   "outputs": [],
   "source": [
    "### STILL TO DO ####\n",
    "\n",
    "test_4040 = Test4040(observation={'ratio':0.5})\n",
    "score_4040 = test_4040.judge(test_model)\n",
    "print(score_4040)\n",
    "\n",
    "test_3030 = Test3030(observation={'ratio':1.0})\n",
    "score_3030 = test_3030.judge(test_model)\n",
    "print(score_3030)\n",
    "\n",
    "test_2020 = Test2020(observation={'ratio':1.0})\n",
    "score_2020 = test_2020.judge(test_model)\n",
    "print(score_2020)\n",
    "\n",
    "test_2040 = Test2040(observation={'ratio':1.0})\n",
    "score_2040 = test_2040.judge(test_model)\n",
    "print(score_2040)\n",
    "\n",
    "test_4020 = Test4020(observation={'ratio':1.0})\n",
    "score_4020 = test_4020.judge(test_model)\n",
    "print(score_4020)\n"
   ]
  },
  {
   "cell_type": "markdown",
   "metadata": {},
   "source": [
    "### A test suite"
   ]
  },
  {
   "cell_type": "code",
   "execution_count": null,
   "metadata": {},
   "outputs": [],
   "source": [
    "ACNet_main_suite = sciunit.TestSuite([test_4040,test_3030,test_2020,test_4020,test_2040])\n",
    "score_matrix = ACNet_main_suite.judge(test_model)\n",
    "score_matrix"
   ]
  },
  {
   "cell_type": "code",
   "execution_count": null,
   "metadata": {},
   "outputs": [],
   "source": []
  }
 ],
 "metadata": {
  "kernelspec": {
   "display_name": "Python 3",
   "language": "python",
   "name": "python3"
  },
  "language_info": {
   "codemirror_mode": {
    "name": "ipython",
    "version": 3
   },
   "file_extension": ".py",
   "mimetype": "text/x-python",
   "name": "python",
   "nbconvert_exporter": "python",
   "pygments_lexer": "ipython3",
   "version": "3.8.7"
  }
 },
 "nbformat": 4,
 "nbformat_minor": 1
}
