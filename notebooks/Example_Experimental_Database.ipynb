{
 "cells": [
  {
   "cell_type": "markdown",
   "metadata": {},
   "source": [
    "# Examples on how to query the database to get an overview of studies and observations"
   ]
  },
  {
   "cell_type": "markdown",
   "metadata": {},
   "source": [
    "\n"
   ]
  },
  {
   "cell_type": "code",
   "execution_count": null,
   "metadata": {},
   "outputs": [],
   "source": [
    "from assrunit.visualizations import experimental_qualitative_overview,get_studies,get_observations, get_meta"
   ]
  },
  {
   "cell_type": "markdown",
   "metadata": {},
   "source": [
    "\n",
    "\n",
    "\n",
    "\n",
    "\n",
    "\n",
    "\n",
    "\n",
    "\n",
    "\n",
    "\n",
    "\n",
    "## Select studies"
   ]
  },
  {
   "cell_type": "code",
   "execution_count": null,
   "metadata": {},
   "outputs": [],
   "source": [
    "\n",
    "get_studies(titles=['gaba', 'ana'], authors=['Jordan'])  #titles OR authors\n",
    "\n",
    "# Equivalent PeeWee query:\n",
    "# Studies.select.where(\n",
    "#             Studies.title.contains('gaba') | \n",
    "#             Studies.title.contains('ana') | \n",
    "#             Studies.authors.contains('Jordan')\n",
    "#         )\n"
   ]
  },
  {
   "cell_type": "code",
   "execution_count": null,
   "metadata": {
    "scrolled": false
   },
   "outputs": [],
   "source": [
    "\n",
    "get_studies(ids = [1,2,7])\n",
    "\n",
    "# Equivalent PeeWee query= Studies.select.where(Studies.ID << [1,2,7])\n"
   ]
  },
  {
   "cell_type": "code",
   "execution_count": null,
   "metadata": {},
   "outputs": [],
   "source": [
    "\n",
    "my_studies = get_studies(titles=['Modeling'], print_output=False)\n",
    "\n",
    "# Equivalent PeeWee query:\n",
    "# Studies.select.where(\n",
    "#             Studies.title.contains('Modeling')\n",
    "#           )\n",
    "\n",
    "\n",
    "print ('\\n Printing studies data my way ... \\n\\n')\n",
    "for study in my_studies:\n",
    "    print(f'{study.title}. {study.authors} {study.year} \\n')\n",
    "    "
   ]
  },
  {
   "cell_type": "markdown",
   "metadata": {},
   "source": [
    "## Select observations"
   ]
  },
  {
   "cell_type": "code",
   "execution_count": null,
   "metadata": {
    "scrolled": true
   },
   "outputs": [],
   "source": [
    "\n",
    "get_observations(power = [20], drive = [40])  #power AND drive\n",
    "\n",
    "# Equivalent PeeWee query:\n",
    "# StudiesExperiments.select.where(\n",
    "#             StudiesExperiments.power << [20] &\n",
    "#             StudiesExperiments.drive << [40]\n",
    "#         )\n"
   ]
  },
  {
   "cell_type": "code",
   "execution_count": null,
   "metadata": {
    "scrolled": false
   },
   "outputs": [],
   "source": [
    "\n",
    "get_observations(power = [20, 40], drive = [40]) #power AND drive\n",
    "\n",
    "# Equivalent PeeWee query:\n",
    "# StudiesExperiments.select.where(\n",
    "#             StudiesExperiments.power << [20, 40] &\n",
    "#             StudiesExperiments.drive << [40]\n",
    "#         )\n"
   ]
  },
  {
   "cell_type": "code",
   "execution_count": null,
   "metadata": {
    "scrolled": false
   },
   "outputs": [],
   "source": [
    "\n",
    "get_observations(drive = [40], study_id=[2]) # drive OR study_id\n",
    "\n",
    "# Equivalent PeeWee query:\n",
    "# StudiesExperiments.select.where(\n",
    "#             StudiesExperiments.drive << [50] |\n",
    "#             StudiesExperiments.study_id << [2]\n",
    "#         )\n"
   ]
  },
  {
   "cell_type": "code",
   "execution_count": null,
   "metadata": {},
   "outputs": [],
   "source": [
    "\n",
    "experiments = get_observations(power = [40], drive = [40], print_output=False)\n",
    "\n",
    "print ('\\n Printing observations data my way ... \\n\\n')\n",
    "for experiment in experiments:\n",
    "    print(\n",
    "        f'{experiment.value} has been obtained from {experiment.power}' + \n",
    "        f' Hz power at {experiment.drive} Hz drive and p_value {experiment.p_value}\\n'     \n",
    "    )\n",
    "    "
   ]
  },
  {
   "cell_type": "markdown",
   "metadata": {},
   "source": [
    "## Qualitative representation of experiments"
   ]
  },
  {
   "cell_type": "code",
   "execution_count": null,
   "metadata": {
    "scrolled": true
   },
   "outputs": [],
   "source": [
    "\n",
    "ex = experimental_qualitative_overview(power=[20,30])\n",
    "\n",
    "# Equivalent PeeWee query:\n",
    "# StudiesExperiments.select().JOIN(Studies).WHERE(StudiesExperiments.power << [30])\n"
   ]
  },
  {
   "cell_type": "code",
   "execution_count": null,
   "metadata": {
    "scrolled": false
   },
   "outputs": [],
   "source": [
    "\n",
    "ex = experimental_qualitative_overview(study_title=['gamma'], power=[30], drive=[20,40,30])\n",
    "\n",
    "# Equivalent PeeWee query:\n",
    "# StudiesExperiments.select().JOIN(Studies).WHERE(\n",
    "#                                                    (Studies.title.contains('gamma')) \n",
    "#                                                                      OR\n",
    "#                                                    (\n",
    "#                                                       (StudiesExperiments.power << [30]) \n",
    "#                                                                      AND \n",
    "#                                                       (StudiesExperiments.drive << [20, 30, 40])\n",
    "#                                                    )\n",
    "#                                                )\n"
   ]
  },
  {
   "cell_type": "code",
   "execution_count": null,
   "metadata": {},
   "outputs": [],
   "source": [
    "\n",
    "ex = experimental_qualitative_overview(study_title=['gaba'], study_authors=['Jordan'], power=[30])\n",
    "\n",
    "# Equivalent PeeWee query:\n",
    "# StudiesExperiments.select().JOIN(Studies).WHERE(\n",
    "#                                                  (\n",
    "#                                                     Studies.title.contains('gaba')\n",
    "#                                                                 OR\n",
    "#                                                     Studies.authors.contains('Jordan')\n",
    "#                                                   )\n",
    "#                                                   \n",
    "#                                                                 OR\n",
    "#                                                     (StudiesExperiments.power << [30])\n",
    "#                                                )\n"
   ]
  },
  {
   "cell_type": "code",
   "execution_count": null,
   "metadata": {
    "scrolled": false
   },
   "outputs": [],
   "source": [
    "\n",
    "ex = experimental_qualitative_overview(study_authors=['Jordan'])\n",
    "\n",
    "# Equivalent PeeWee query:\n",
    "# StudiesExperiments.select().JOIN(Studies).WHERE(Studies.authors.contains('Jordan'))\n"
   ]
  },
  {
   "cell_type": "markdown",
   "metadata": {},
   "source": [
    "## Studies Meta data"
   ]
  },
  {
   "cell_type": "code",
   "execution_count": null,
   "metadata": {
    "scrolled": false
   },
   "outputs": [],
   "source": [
    "\n",
    "get_meta(study_id = 6)\n"
   ]
  },
  {
   "cell_type": "markdown",
   "metadata": {},
   "source": [
    "## Plot Observations"
   ]
  },
  {
   "cell_type": "code",
   "execution_count": null,
   "metadata": {},
   "outputs": [],
   "source": [
    "\n",
    "\n",
    "\n",
    "\n",
    "\n",
    "import numpy as np\n",
    "import seaborn as sns\n",
    "import matplotlib.pylab as plt\n",
    "plt.rc(['xtick', 'ytick'], labelsize=30)\n",
    "plt.rc(['axes'], titlesize=40)\n",
    "\n",
    "\n",
    "\n",
    "observations, row_labels, col_labels = experimental_qualitative_overview(plot_table=False)\n",
    "\n",
    "numeric_observations = np.zeros(observations.shape)\n",
    "\n",
    "# Replace qualitative values with numbers\n",
    "for row_index, row in enumerate(observations):\n",
    "    \n",
    "    for col_index, value in enumerate(row):\n",
    "        \n",
    "        if value == 'higher':\n",
    "            numeric_observations[row_index][col_index] = 1\n",
    "        if value == 'lower':\n",
    "            numeric_observations[row_index][col_index] = -1\n",
    "        if value == 'equal':\n",
    "            numeric_observations[row_index][col_index] = 0\n",
    "        if value == 'Not tested':\n",
    "            numeric_observations[row_index][col_index] = -2\n",
    "            \n",
    " \n",
    "# Plot heatmap\n",
    "\n",
    "fig, ax = plt.subplots(figsize=(40,20)) \n",
    "sns.heatmap(\n",
    "    numeric_observations, ax = ax, cmap=\"Blues\", cbar=False, annot_kws={\"size\": 22}, \n",
    "    annot=observations, fmt = '', xticklabels=col_labels, yticklabels=row_labels, linewidth=1\n",
    ")\n",
    "ax.set_title('Qualitative observations of Schizophrenic patients VS Healthy controls')\n",
    "\n",
    "plt.show()\n"
   ]
  },
  {
   "cell_type": "markdown",
   "metadata": {},
   "source": [
    "## Solve: \n",
    "\n",
    "## Compare (HC, SZ) values for participants who is older than 10 for power = 40 and drive = 40."
   ]
  },
  {
   "cell_type": "code",
   "execution_count": null,
   "metadata": {
    "scrolled": false
   },
   "outputs": [],
   "source": [
    "\n",
    "\n",
    "\n",
    "\n",
    "\n",
    "\n",
    "\n",
    "from assrunit.db import *\n",
    "\n",
    "#healthy controls ID\n",
    "hc_id = [d.ID for d in Disorders.select(Disorders.ID).where(Disorders.name.contains('controls'))][0]\n",
    "\n",
    "#Schizophrenia disorder ID\n",
    "sz_id = [d.ID for d in Disorders.select(Disorders.ID).where(Disorders.name.contains('schizophrenia'))][0]\n",
    "\n",
    "# Get participants filtered as requested\n",
    "participants = SubjectsGroups.select().where(\n",
    "                                    (SubjectsGroups.mean_age > 10) & \n",
    "                                    (SubjectsGroups.disorder_id==sz_id)\n",
    "                                )\n",
    "\n",
    "# obtain studies IDs form filtered participants \n",
    "studies_ids = [s.study_id for s in participants]\n",
    "\n",
    "# Get observations\n",
    "hc_observations = StudiesExperiments.select().where(\n",
    "                                    (StudiesExperiments.power==40) & \n",
    "                                    (StudiesExperiments.drive==40) & \n",
    "                                    (StudiesExperiments.study_id << studies_ids) & \n",
    "                                    (StudiesExperiments.disorder_id == hc_id)\n",
    "                                )\n",
    "\n",
    "sz_observations = StudiesExperiments.select().where(\n",
    "                                    (StudiesExperiments.power==40) & \n",
    "                                    (StudiesExperiments.drive==40) & \n",
    "                                    (StudiesExperiments.study_id << studies_ids) & \n",
    "                                    (StudiesExperiments.disorder_id == sz_id)\n",
    "                                )\n",
    "\n",
    "# Obtain values from obsevations\n",
    "hc_values = [v.value for v in hc_observations]\n",
    "sz_values = [v.value for v in sz_observations]\n",
    "\n",
    "# Prepare annotation matrix\n",
    "annotation_matrix = np.ndarray((2, len(hc_values)), dtype='U10')\n",
    "annotation_matrix[0] = sz_values\n",
    "annotation_matrix[1] = hc_values\n",
    "\n",
    "# Report-Appendix1 explains values convention: \n",
    "#    Both columns equal 0, means the study mentioned that both values were equal. \n",
    "#    One column equals 0 and the second equals -1, means the study mentioned that one values were lower than the other\n",
    "\n",
    "for index, value in enumerate(annotation_matrix[0]): \n",
    "    if annotation_matrix[0][index] == '0.0' and annotation_matrix[1][index] == '0.0':\n",
    "        annotation_matrix[0][index] = 'equal'\n",
    "        annotation_matrix[1][index] = 'equal'\n",
    "\n",
    "annotation_matrix = np.where(annotation_matrix=='-1.0', 'lower', annotation_matrix)\n",
    "\n",
    "#heatmap plot\n",
    "\n",
    "fig, ax = plt.subplots(figsize=(40,20)) \n",
    "sns.heatmap(\n",
    "    [sz_values, hc_values], ax = ax, cmap=\"Blues\", cbar=False, annot_kws={\"size\": 22}, \n",
    "    annot=annotation_matrix, fmt = '', xticklabels=[], yticklabels=['Schizophrenia','HC'], linewidth=1\n",
    ")\n",
    "ax.set_title('Values for Healthy controls and Schizophrenic patients under Filters: 40Power40Drive and mean_age > 10')\n",
    "plt.show()"
   ]
  },
  {
   "cell_type": "code",
   "execution_count": null,
   "metadata": {},
   "outputs": [],
   "source": []
  }
 ],
 "metadata": {
  "kernelspec": {
   "display_name": "Python 3",
   "language": "python",
   "name": "python3"
  },
  "language_info": {
   "codemirror_mode": {
    "name": "ipython",
    "version": 3
   },
   "file_extension": ".py",
   "mimetype": "text/x-python",
   "name": "python",
   "nbconvert_exporter": "python",
   "pygments_lexer": "ipython3",
   "version": "3.8.6"
  }
 },
 "nbformat": 4,
 "nbformat_minor": 1
}
