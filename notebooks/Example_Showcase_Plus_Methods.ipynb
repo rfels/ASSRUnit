{
 "cells": [
  {
   "cell_type": "markdown",
   "metadata": {},
   "source": [
    "## The use of additonal data\n",
    "This example demonstrates the uses of the 'produce..._plus' methods of model classes, which produce additional\n",
    "data (exceeding the data used to evaluate the tests). This data can be used to investigate the model behaviour in more detail."
   ]
  },
  {
   "cell_type": "code",
   "execution_count": null,
   "metadata": {},
   "outputs": [],
   "source": [
    "import matplotlib.pyplot as plt\n",
    "import sciunit\n",
    "\n",
    "\n",
    "import numpy as np\n",
    "from assrunit.capabilities import ProduceXY\n",
    "from assrunit.models import VierlingSimpleModelRobust\n",
    "from scipy.stats import ttest_ind\n",
    "from assrunit.tests.test_and_prediction_tests import Test4040,Test3030,Test2020,Test2040,Test4020\n",
    "from assrunit.visualizations import plot_statistics"
   ]
  },
  {
   "cell_type": "markdown",
   "metadata": {},
   "source": [
    "### Model parameters"
   ]
  },
  {
   "cell_type": "code",
   "execution_count": null,
   "metadata": {},
   "outputs": [],
   "source": [
    "controlparams = {'n_ex': 20,'n_inh': 10,'eta': 5.0,'tau_R': 0.1,'tau_ex': 2.0,'tau_inh': 8.0,'g_ee': 0.015,'g_ei': 0.025,'g_ie': 0.015,'g_ii': 0.02,'g_de': 0.3,'g_di': 0.08,'dt': 0.05,'b_ex': -0.01,'b_inh': -0.01,'background_rate': 33.3,'A': 0.5,'filename': 'default','directory': '/'}\n",
    "\n",
    "schizparams = {'n_ex': 20,'n_inh': 10,'eta': 5.0,'tau_R': 0.1,'tau_ex': 2.0,'tau_inh': 28.0,'g_ee': 0.015,'g_ei': 0.025,'g_ie': 0.015,'g_ii': 0.02,'g_de': 0.3,'g_di': 0.08,'dt': 0.05,'b_ex': -0.01,'b_inh': -0.01,'background_rate': 33.3,'A': 0.5,'filename': 'default','directory': '/'}\n",
    "\n",
    "seeds = np.load('../Seeds.npy')"
   ]
  },
  {
   "cell_type": "markdown",
   "metadata": {},
   "source": [
    "### Instantiating the model"
   ]
  },
  {
   "cell_type": "code",
   "execution_count": null,
   "metadata": {},
   "outputs": [],
   "source": [
    "test_model = VierlingSimpleModelRobust(controlparams,schizparams,seeds)"
   ]
  },
  {
   "cell_type": "markdown",
   "metadata": {},
   "source": [
    "### Run simulations "
   ]
  },
  {
   "cell_type": "code",
   "execution_count": null,
   "metadata": {
    "scrolled": false
   },
   "outputs": [],
   "source": [
    "print ('Run simulations (this might take 15-20 minutes)')\n",
    "print ('\\n 4040')\n",
    "mcontrol4040,mschiz4040,control4040,schiz4040 = test_model.produce_XY_plus(stimfrequency=40.0,powerfrequency=40.0)\n",
    "print ('\\n 3030')\n",
    "mcontrol3030,mschiz3030,control3030,schiz3030 = test_model.produce_XY_plus(stimfrequency=30.0,powerfrequency=30.0)\n",
    "print ('\\n 2020')\n",
    "mcontrol2020,mschiz2020,control2020,schiz2020 = test_model.produce_XY_plus(stimfrequency=20.0,powerfrequency=20.0)\n",
    "print ('\\n 2040')\n",
    "mcontrol2040,mschiz2040,control2040,schiz2040 = test_model.produce_XY_plus(stimfrequency=40.0,powerfrequency=20.0)\n",
    "print ('\\n 4020')\n",
    "mcontrol4020,mschiz4020,control4020,schiz4020 = test_model.produce_XY_plus(stimfrequency=20.0,powerfrequency=40.0)"
   ]
  },
  {
   "cell_type": "markdown",
   "metadata": {},
   "source": [
    "### Visualize the data"
   ]
  },
  {
   "cell_type": "code",
   "execution_count": null,
   "metadata": {},
   "outputs": [],
   "source": [
    "\n",
    "# Plot data as a boxplot\n",
    "labels = list(['ctrl','schiz','cctrl','schiz','ctrl','schiz',\\\n",
    "          'ctrl','schiz','ctrl','schiz'])\n",
    "fig = plt.figure(1)\n",
    "ax = fig.add_subplot(111)\n",
    "ax.boxplot([control4040,schiz4040,control3030,schiz3030,control2020,schiz2020,control2040,schiz2040,control4020,\\\n",
    "                  schiz4020])\n",
    "ax.set_xticklabels(labels, rotation=90)\n",
    "ax.set_ylabel('Power',fontsize=15)\n",
    "a=ax.annotate('4040',xy=(0.1,0),xytext=(0,-55),xycoords='axes fraction',\n",
    "    textcoords='offset points',size=15,ha='center',va='bottom')\n",
    "a=ax.annotate('3030',xy=(0.3,0),xytext=(0,-55),xycoords='axes fraction',\n",
    "    textcoords='offset points',size=15,ha='center',va='bottom')\n",
    "a=ax.annotate('2020',xy=(0.5,0),xytext=(0,-55),xycoords='axes fraction',\n",
    "    textcoords='offset points',size=15,ha='center',va='bottom')\n",
    "a=ax.annotate('2040',xy=(0.7,0),xytext=(0,-55),xycoords='axes fraction',\n",
    "    textcoords='offset points',size=15,ha='center',va='bottom')\n",
    "a=ax.annotate('4020',xy=(0.9,0),xytext=(0,-55),xycoords='axes fraction',\n",
    "    textcoords='offset points',size=15,ha='center',va='bottom')"
   ]
  },
  {
   "cell_type": "code",
   "execution_count": null,
   "metadata": {},
   "outputs": [],
   "source": [
    "t4040,p4040 = ttest_ind(control4040,schiz4040)\n",
    "t3030,p3030 = ttest_ind(control3030,schiz3030)\n",
    "t2020,p2020 = ttest_ind(control2020,schiz2020)\n",
    "t2040,p2040 = ttest_ind(control2040,schiz2040)\n",
    "t4020,p4020 = ttest_ind(control4020,schiz4020)\n",
    "print ('40Hz power at 40Hz drive: F=',t4040,'p=',p4040)\n",
    "print ('30Hz power at 30Hz drive: F=',t3030,'p=',p3030)\n",
    "print ('20Hz power at 20Hz drive: F=',t2020,'p=',p2020)\n",
    "print ('20Hz power at 40Hz drive: F=',t2040,'p=',p2040)\n",
    "print ('40Hz power at 20Hz drive: F=',t4020,'p=',p4020)"
   ]
  },
  {
   "cell_type": "code",
   "execution_count": null,
   "metadata": {},
   "outputs": [],
   "source": []
  }
 ],
 "metadata": {
  "kernelspec": {
   "display_name": "Python 3",
   "language": "python",
   "name": "python3"
  },
  "language_info": {
   "codemirror_mode": {
    "name": "ipython",
    "version": 3
   },
   "file_extension": ".py",
   "mimetype": "text/x-python",
   "name": "python",
   "nbconvert_exporter": "python",
   "pygments_lexer": "ipython3",
   "version": "3.8.6"
  }
 },
 "nbformat": 4,
 "nbformat_minor": 1
}
